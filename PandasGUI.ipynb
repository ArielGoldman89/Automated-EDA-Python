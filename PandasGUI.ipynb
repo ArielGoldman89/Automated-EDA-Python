{
 "cells": [
  {
   "cell_type": "markdown",
   "id": "dde4bf99",
   "metadata": {},
   "source": [
    "# PandasGUI\n",
    "\n",
    "PandasGUI is a GUI for viewing, plotting and analyzing Pandas DataFrames.\n",
    "\n",
    "\n",
    "- https://pypi.org/project/pandasgui/0.2.14/\n",
    "\n",
    "\n",
    "- https://medium.com/swlh/using-pandasgui-to-analyze-pandas-dataframes-on-graphical-user-interface-821e9e4d4e98"
   ]
  },
  {
   "cell_type": "code",
   "execution_count": null,
   "id": "1c146658",
   "metadata": {},
   "outputs": [],
   "source": [
    "# Installation\n",
    "\n",
    "# !pip install pandasgui==0.2.14"
   ]
  },
  {
   "cell_type": "code",
   "execution_count": 1,
   "id": "2e398415",
   "metadata": {},
   "outputs": [],
   "source": [
    "import warnings\n",
    "warnings.filterwarnings('ignore')\n",
    "\n",
    "%matplotlib inline\n",
    "\n",
    "# Necessary libraries\n",
    "\n",
    "import pandas as pd\n",
    "\n",
    "# Automate EDA\n",
    "\n",
    "from pandasgui import show"
   ]
  },
  {
   "cell_type": "markdown",
   "id": "8fc86fe6",
   "metadata": {},
   "source": [
    "## PandasGUI Libraries"
   ]
  },
  {
   "cell_type": "code",
   "execution_count": null,
   "id": "17c5bb91",
   "metadata": {
    "scrolled": true
   },
   "outputs": [],
   "source": [
    "from pandasgui.datasets import pokemon, titanic, all_datasets\n",
    "show(pokemon, titanic)\n",
    "show(**all_datasets);"
   ]
  },
  {
   "cell_type": "markdown",
   "id": "3c5f26ce",
   "metadata": {},
   "source": [
    "## Load Olympic Dataset"
   ]
  },
  {
   "cell_type": "code",
   "execution_count": 2,
   "id": "6b3e85c9",
   "metadata": {},
   "outputs": [],
   "source": [
    "df = pd.read_csv(r\"C:\\Users\\ariel\\OneDrive\\Desktop\\CCT College\\GitHub\\Automated EDA\\Datasets\\Sports\\olympic.csv\")"
   ]
  },
  {
   "cell_type": "code",
   "execution_count": 4,
   "id": "15f32062",
   "metadata": {},
   "outputs": [
    {
     "name": "stderr",
     "output_type": "stream",
     "text": [
      "PandasGUI INFO — pandasgui.gui — Opening PandasGUI\n"
     ]
    }
   ],
   "source": [
    "show(df);"
   ]
  },
  {
   "cell_type": "code",
   "execution_count": null,
   "id": "49e24cb7",
   "metadata": {},
   "outputs": [],
   "source": []
  }
 ],
 "metadata": {
  "kernelspec": {
   "display_name": "Python 3 (ipykernel)",
   "language": "python",
   "name": "python3"
  },
  "language_info": {
   "codemirror_mode": {
    "name": "ipython",
    "version": 3
   },
   "file_extension": ".py",
   "mimetype": "text/x-python",
   "name": "python",
   "nbconvert_exporter": "python",
   "pygments_lexer": "ipython3",
   "version": "3.9.13"
  }
 },
 "nbformat": 4,
 "nbformat_minor": 5
}
