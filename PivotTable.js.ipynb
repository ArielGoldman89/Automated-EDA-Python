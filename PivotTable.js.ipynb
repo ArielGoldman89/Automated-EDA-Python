{
 "cells": [
  {
   "cell_type": "markdown",
   "id": "7b3b662e",
   "metadata": {},
   "source": [
    "# PivotTable.js\n",
    "\n",
    "Drag’n’drop Pivot Tables and Charts\n",
    "\n",
    "- https://pypi.org/project/pivottablejs/0.9.0/\n",
    "\n",
    "\n",
    "- https://medium.com/@yashrajeshjadhav/instant-pivot-tables-with-pivottable-js-830993200e94"
   ]
  },
  {
   "cell_type": "code",
   "execution_count": null,
   "id": "e2c2307a",
   "metadata": {},
   "outputs": [],
   "source": [
    "# Installation\n",
    "\n",
    "# !pip install pivottablejs"
   ]
  },
  {
   "cell_type": "code",
   "execution_count": 1,
   "id": "53391108",
   "metadata": {},
   "outputs": [],
   "source": [
    "import warnings\n",
    "warnings.filterwarnings('ignore')\n",
    "\n",
    "%matplotlib inline\n",
    "\n",
    "# Necessary libraries\n",
    "\n",
    "import pandas as pd\n",
    "import numpy as np\n",
    "import matplotlib.pyplot as plt\n",
    "import seaborn as sns\n",
    "\n",
    "# Automate EDA\n",
    "\n",
    "from pivottablejs import pivot_ui"
   ]
  },
  {
   "cell_type": "markdown",
   "id": "c76ca138",
   "metadata": {},
   "source": [
    "## Load Insurance Dataset"
   ]
  },
  {
   "cell_type": "code",
   "execution_count": 2,
   "id": "119f5d7a",
   "metadata": {},
   "outputs": [],
   "source": [
    "df_insurance = pd.read_csv(r\"C:\\Users\\ariel\\OneDrive\\Desktop\\CCT College\\GitHub\\Automated EDA\\Datasets\\datasets\\insurance_data.csv\")"
   ]
  },
  {
   "cell_type": "code",
   "execution_count": 3,
   "id": "27c93561",
   "metadata": {},
   "outputs": [
    {
     "data": {
      "text/html": [
       "<div>\n",
       "<style scoped>\n",
       "    .dataframe tbody tr th:only-of-type {\n",
       "        vertical-align: middle;\n",
       "    }\n",
       "\n",
       "    .dataframe tbody tr th {\n",
       "        vertical-align: top;\n",
       "    }\n",
       "\n",
       "    .dataframe thead th {\n",
       "        text-align: right;\n",
       "    }\n",
       "</style>\n",
       "<table border=\"1\" class=\"dataframe\">\n",
       "  <thead>\n",
       "    <tr style=\"text-align: right;\">\n",
       "      <th></th>\n",
       "      <th>age</th>\n",
       "      <th>bmi</th>\n",
       "      <th>charges</th>\n",
       "      <th>gender</th>\n",
       "      <th>region</th>\n",
       "    </tr>\n",
       "  </thead>\n",
       "  <tbody>\n",
       "    <tr>\n",
       "      <th>0</th>\n",
       "      <td>19</td>\n",
       "      <td>28</td>\n",
       "      <td>16885</td>\n",
       "      <td>female</td>\n",
       "      <td>southwest</td>\n",
       "    </tr>\n",
       "    <tr>\n",
       "      <th>1</th>\n",
       "      <td>62</td>\n",
       "      <td>26</td>\n",
       "      <td>27809</td>\n",
       "      <td>female</td>\n",
       "      <td>east</td>\n",
       "    </tr>\n",
       "    <tr>\n",
       "      <th>2</th>\n",
       "      <td>48</td>\n",
       "      <td>28</td>\n",
       "      <td>23568</td>\n",
       "      <td>male</td>\n",
       "      <td>southwest</td>\n",
       "    </tr>\n",
       "    <tr>\n",
       "      <th>3</th>\n",
       "      <td>53</td>\n",
       "      <td>23</td>\n",
       "      <td>23245</td>\n",
       "      <td>female</td>\n",
       "      <td>east</td>\n",
       "    </tr>\n",
       "    <tr>\n",
       "      <th>4</th>\n",
       "      <td>20</td>\n",
       "      <td>22</td>\n",
       "      <td>14712</td>\n",
       "      <td>female</td>\n",
       "      <td>northwest</td>\n",
       "    </tr>\n",
       "    <tr>\n",
       "      <th>...</th>\n",
       "      <td>...</td>\n",
       "      <td>...</td>\n",
       "      <td>...</td>\n",
       "      <td>...</td>\n",
       "      <td>...</td>\n",
       "    </tr>\n",
       "    <tr>\n",
       "      <th>119</th>\n",
       "      <td>29</td>\n",
       "      <td>22</td>\n",
       "      <td>16115</td>\n",
       "      <td>female</td>\n",
       "      <td>east</td>\n",
       "    </tr>\n",
       "    <tr>\n",
       "      <th>120</th>\n",
       "      <td>32</td>\n",
       "      <td>28</td>\n",
       "      <td>21472</td>\n",
       "      <td>male</td>\n",
       "      <td>northwest</td>\n",
       "    </tr>\n",
       "    <tr>\n",
       "      <th>121</th>\n",
       "      <td>30</td>\n",
       "      <td>24</td>\n",
       "      <td>18766</td>\n",
       "      <td>female</td>\n",
       "      <td>northwest</td>\n",
       "    </tr>\n",
       "    <tr>\n",
       "      <th>122</th>\n",
       "      <td>62</td>\n",
       "      <td>27</td>\n",
       "      <td>28101</td>\n",
       "      <td>male</td>\n",
       "      <td>east</td>\n",
       "    </tr>\n",
       "    <tr>\n",
       "      <th>123</th>\n",
       "      <td>61</td>\n",
       "      <td>29</td>\n",
       "      <td>29141</td>\n",
       "      <td>female</td>\n",
       "      <td>northwest</td>\n",
       "    </tr>\n",
       "  </tbody>\n",
       "</table>\n",
       "<p>124 rows × 5 columns</p>\n",
       "</div>"
      ],
      "text/plain": [
       "     age  bmi  charges  gender     region\n",
       "0     19   28    16885  female  southwest\n",
       "1     62   26    27809  female       east\n",
       "2     48   28    23568    male  southwest\n",
       "3     53   23    23245  female       east\n",
       "4     20   22    14712  female  northwest\n",
       "..   ...  ...      ...     ...        ...\n",
       "119   29   22    16115  female       east\n",
       "120   32   28    21472    male  northwest\n",
       "121   30   24    18766  female  northwest\n",
       "122   62   27    28101    male       east\n",
       "123   61   29    29141  female  northwest\n",
       "\n",
       "[124 rows x 5 columns]"
      ]
     },
     "execution_count": 3,
     "metadata": {},
     "output_type": "execute_result"
    }
   ],
   "source": [
    "df_insurance"
   ]
  },
  {
   "cell_type": "code",
   "execution_count": 5,
   "id": "4642489c",
   "metadata": {},
   "outputs": [
    {
     "data": {
      "text/html": [
       "\n",
       "        <iframe\n",
       "            width=\"100%\"\n",
       "            height=\"500\"\n",
       "            src=\"PivotTablejs.html\"\n",
       "            frameborder=\"0\"\n",
       "            allowfullscreen\n",
       "            \n",
       "        ></iframe>\n",
       "        "
      ],
      "text/plain": [
       "<IPython.lib.display.IFrame at 0x1f4f2079a30>"
      ]
     },
     "execution_count": 5,
     "metadata": {},
     "output_type": "execute_result"
    }
   ],
   "source": [
    "# Create & save the pivot table as HTML file.\n",
    "pivot_table = pivot_ui(df_insurance, outfile_path='PivotTablejs.html')\n",
    "pivot_table"
   ]
  },
  {
   "cell_type": "code",
   "execution_count": null,
   "id": "486e6f35",
   "metadata": {},
   "outputs": [],
   "source": []
  },
  {
   "cell_type": "code",
   "execution_count": null,
   "id": "dbf87f08",
   "metadata": {},
   "outputs": [],
   "source": []
  }
 ],
 "metadata": {
  "kernelspec": {
   "display_name": "Python 3 (ipykernel)",
   "language": "python",
   "name": "python3"
  },
  "language_info": {
   "codemirror_mode": {
    "name": "ipython",
    "version": 3
   },
   "file_extension": ".py",
   "mimetype": "text/x-python",
   "name": "python",
   "nbconvert_exporter": "python",
   "pygments_lexer": "ipython3",
   "version": "3.9.13"
  }
 },
 "nbformat": 4,
 "nbformat_minor": 5
}
