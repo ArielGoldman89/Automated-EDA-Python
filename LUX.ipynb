{
 "cells": [
  {
   "cell_type": "markdown",
   "id": "6de6861b",
   "metadata": {},
   "source": [
    "# LUX\n",
    "\n",
    "Lux is a Python library that facilitate fast and easy data exploration by automating the visualization and data analysis process. By simply printing out a dataframe in a Jupyter notebook, Lux recommends a set of visualizations highlighting interesting trends and patterns in the dataset. Visualizations are displayed via an interactive widget that enables users to quickly browse through large collections of visualizations and make sense of their data.\n",
    "\n",
    "- https://pypi.org/project/lux/#description\n",
    "\n",
    "\n",
    "- https://lux-api.readthedocs.io/en/latest/source/guide/export.html#exporting-widget-visualizations-as-static-html\n",
    "\n",
    "\n",
    "- https://github.com/lux-org/lux-binder/blob/master/tutorial/3-widget-vis-export.ipynb\n",
    "\n",
    "Datasets\n",
    "- https://github.com/lux-org/lux-datasets/tree/master/data\n",
    "\n",
    "Exercise\n",
    "- https://github.com/lux-org/lux-binder/blob/master/exercise/4-Data-Playground.ipynb\n",
    "\n",
    "\n",
    "- https://python.plainenglish.io/how-to-automatically-generate-data-visualization-with-lux-in-python-ea2a4d3688d9\n",
    "\n",
    "\n",
    "- https://builtin.com/data-science/lux-python-eda\n",
    "\n",
    "\n",
    "- https://medium.com/analytics-vidhya/lets-discover-the-data-intelligently-using-lux-a40f1c63995d\n",
    "\n",
    "\n",
    "- https://github.com/rshowrav/Introduction-to-lux/blob/main/Introduction%20to%20Lux.ipynb\n",
    "\n",
    "\n",
    "- https://github.com/lux-org/lux-widget\n",
    "\n",
    "\n",
    "- https://python.plainenglish.io/how-to-automatically-generate-data-visualization-with-lux-in-python-ea2a4d3688d9\n",
    "\n",
    "\n",
    "- https://www.almabetter.com/bytes/articles/everything-about-lux-a-python-library\n",
    "\n",
    "\n",
    "- https://www.linkedin.com/pulse/make-your-visualization-easier-using-lux-jupyter-rejwan-bin-sulaiman/\n",
    "\n",
    "\n",
    "###### Clicking on toggle button does not display any graphs\n",
    "- https://github.com/lux-org/lux/issues/172"
   ]
  },
  {
   "cell_type": "code",
   "execution_count": null,
   "id": "801b07ec",
   "metadata": {},
   "outputs": [],
   "source": [
    "# Install\n",
    "\n",
    "# !pip install lux\n",
    "# !pip install lux-api\n",
    "# !pip install --upgrade lux-api\n",
    "\n",
    "# To activate the Jupyter notebook extension:\n",
    "\n",
    "# jupyter nbextension install --py luxwidget\n",
    "# jupyter nbextension enable --py luxwidget "
   ]
  },
  {
   "cell_type": "code",
   "execution_count": 1,
   "id": "bcef0f20",
   "metadata": {},
   "outputs": [],
   "source": [
    "import warnings\n",
    "warnings.filterwarnings('ignore')\n",
    "\n",
    "%matplotlib inline\n",
    "\n",
    "# Necessary libraries\n",
    "\n",
    "import pandas as pd\n",
    "import numpy as np\n",
    "import matplotlib.pyplot as plt\n",
    "import seaborn as sns\n",
    "import altair as alt\n",
    "\n",
    "# Automate EDA\n",
    "\n",
    "import lux\n",
    "from lux.vis.VisList import VisList # Multiple visualisations together\n",
    "from lux.vis.Vis import Vis # Individual visualizations"
   ]
  },
  {
   "cell_type": "markdown",
   "id": "8275f5f6",
   "metadata": {},
   "source": [
    "## Load College Dataset"
   ]
  },
  {
   "cell_type": "code",
   "execution_count": 2,
   "id": "9d7bc4a0",
   "metadata": {},
   "outputs": [],
   "source": [
    "df = pd.read_csv(r\"C:\\Users\\ariel\\OneDrive\\Desktop\\CCT College\\GitHub\\Automated EDA\\Datasets\\datasets\\college.csv\")"
   ]
  },
  {
   "cell_type": "code",
   "execution_count": 3,
   "id": "18580f1d",
   "metadata": {
    "scrolled": false
   },
   "outputs": [
    {
     "data": {
      "application/vnd.jupyter.widget-view+json": {
       "model_id": "8eae8da4e2c3487aa230605e57951ea9",
       "version_major": 2,
       "version_minor": 0
      },
      "text/plain": [
       "Button(description='Toggle Pandas/Lux', layout=Layout(top='5px', width='140px'), style=ButtonStyle())"
      ]
     },
     "metadata": {},
     "output_type": "display_data"
    },
    {
     "data": {
      "application/vnd.jupyter.widget-view+json": {
       "model_id": "5c0845c9afc145ddaf927aa000f0cbaf",
       "version_major": 2,
       "version_minor": 0
      },
      "text/plain": [
       "Output()"
      ]
     },
     "metadata": {},
     "output_type": "display_data"
    }
   ],
   "source": [
    "df"
   ]
  },
  {
   "cell_type": "code",
   "execution_count": 4,
   "id": "7e0ca8a9",
   "metadata": {},
   "outputs": [
    {
     "data": {
      "application/vnd.jupyter.widget-view+json": {
       "model_id": "22f4b8a15f854440b6a5dba0d6187f97",
       "version_major": 2,
       "version_minor": 0
      },
      "text/plain": [
       "LuxWidget(recommendations=[{'action': 'Vis List', 'description': 'Shows a vis list defined by the intent', 'vs…"
      ]
     },
     "metadata": {},
     "output_type": "display_data"
    }
   ],
   "source": [
    "# Correlation\n",
    "correlation = df.recommendation['Correlation']\n",
    "correlation"
   ]
  },
  {
   "cell_type": "code",
   "execution_count": 5,
   "id": "dbb3b16d",
   "metadata": {},
   "outputs": [
    {
     "data": {
      "application/vnd.jupyter.widget-view+json": {
       "model_id": "498a2af2b53e45568f04705ac4b6618b",
       "version_major": 2,
       "version_minor": 0
      },
      "text/plain": [
       "LuxWidget(recommendations=[{'action': 'Vis List', 'description': 'Shows a vis list defined by the intent', 'vs…"
      ]
     },
     "metadata": {},
     "output_type": "display_data"
    }
   ],
   "source": [
    "# Distribution\n",
    "distribution = df.recommendation['Distribution']\n",
    "distribution"
   ]
  },
  {
   "cell_type": "code",
   "execution_count": 6,
   "id": "40d6ef5a",
   "metadata": {},
   "outputs": [
    {
     "data": {
      "application/vnd.jupyter.widget-view+json": {
       "model_id": "e10f8ea5f94d45e1bae59b567a4917ce",
       "version_major": 2,
       "version_minor": 0
      },
      "text/plain": [
       "LuxWidget(recommendations=[{'action': 'Vis List', 'description': 'Shows a vis list defined by the intent', 'vs…"
      ]
     },
     "metadata": {},
     "output_type": "display_data"
    }
   ],
   "source": [
    "# Occurrence\n",
    "occurrence = df.recommendation['Occurrence']\n",
    "occurrence"
   ]
  },
  {
   "cell_type": "markdown",
   "id": "eebcf8da",
   "metadata": {},
   "source": [
    "### Exporting widget visualizations as static HTML\n",
    "\n",
    "Let's say that you are interested in sharing the visualizations displayed in Lux with others, you can export the visualizations into a static HTML. By default, the file is saved as export.html, you can optionally specify the HTML filename in the input parameter."
   ]
  },
  {
   "cell_type": "code",
   "execution_count": 7,
   "id": "786e1efd",
   "metadata": {},
   "outputs": [
    {
     "name": "stdout",
     "output_type": "stream",
     "text": [
      "Saved HTML to Lux_College_Data.html\n"
     ]
    }
   ],
   "source": [
    "df.save_as_html(filename='Lux_College_Data.html')"
   ]
  },
  {
   "cell_type": "markdown",
   "id": "1a68f817",
   "metadata": {},
   "source": [
    "### Selecting visualizations from recommendation widget\n",
    "You can also click on visualizations of interest and export them into a separate widget for further processing.\n",
    "\n",
    "1. Scroll through Correltion\n",
    "2. Click on any visualisation (let's say 2nd and 5th)\n",
    "3. CLick on the export button and make sure the blue message box shows up"
   ]
  },
  {
   "cell_type": "code",
   "execution_count": 14,
   "id": "a2ec43fd",
   "metadata": {},
   "outputs": [
    {
     "data": {
      "text/plain": [
       "[]"
      ]
     },
     "execution_count": 14,
     "metadata": {},
     "output_type": "execute_result"
    }
   ],
   "source": [
    "# Export selected visialisation into variable first before running this cell\n",
    "\n",
    "vis0 = df.exported # All the exported visualizations \n",
    "vis0"
   ]
  },
  {
   "cell_type": "code",
   "execution_count": 15,
   "id": "8535d8ee",
   "metadata": {},
   "outputs": [
    {
     "data": {
      "text/plain": [
       "[]"
      ]
     },
     "execution_count": 15,
     "metadata": {},
     "output_type": "execute_result"
    }
   ],
   "source": [
    "# Most correlated, least skewed distribution & least uneven occurence (bars)\n",
    "\n",
    "vis2 = df.exported # All the exported visualizations \n",
    "vis2"
   ]
  },
  {
   "cell_type": "code",
   "execution_count": 16,
   "id": "1a1df3d3",
   "metadata": {},
   "outputs": [
    {
     "data": {
      "text/plain": [
       "[]"
      ]
     },
     "execution_count": 16,
     "metadata": {},
     "output_type": "execute_result"
    }
   ],
   "source": [
    "# Export selected visialisation into variable first before running this cell\n",
    "\n",
    "vis = df.exported # All the exported visualizations \n",
    "vis"
   ]
  },
  {
   "cell_type": "code",
   "execution_count": 9,
   "id": "e159ff99",
   "metadata": {},
   "outputs": [
    {
     "data": {
      "application/vnd.jupyter.widget-view+json": {
       "model_id": "0130bcdd907643e8a5f46ed823b0aa96",
       "version_major": 2,
       "version_minor": 0
      },
      "text/plain": [
       "LuxWidget(current_vis={'config': {'view': {'continuousWidth': 300, 'continuousHeight': 300}, 'axis': {'labelCo…"
      ]
     },
     "metadata": {},
     "output_type": "display_data"
    }
   ],
   "source": [
    "# Export selected visialisation into variable first before running this cell\n",
    "\n",
    "vis1 = df.exported[0] # Export specific visualisation\n",
    "vis1"
   ]
  },
  {
   "cell_type": "markdown",
   "id": "718775c1",
   "metadata": {},
   "source": [
    "### Expressing Analysis Interest and Goals with User Intent"
   ]
  },
  {
   "cell_type": "markdown",
   "id": "616d7412",
   "metadata": {},
   "source": [
    "You can specify a variety of things that you might be interested in, for example, let's say that you are interested in the the median earnings of students in publicly-funded colleges."
   ]
  },
  {
   "cell_type": "code",
   "execution_count": 10,
   "id": "414397ba",
   "metadata": {},
   "outputs": [
    {
     "data": {
      "application/vnd.jupyter.widget-view+json": {
       "model_id": "4d6dd9ad3262441a9fa1487a06eaa233",
       "version_major": 2,
       "version_minor": 0
      },
      "text/plain": [
       "Button(description='Toggle Pandas/Lux', layout=Layout(top='5px', width='140px'), style=ButtonStyle())"
      ]
     },
     "metadata": {},
     "output_type": "display_data"
    },
    {
     "data": {
      "application/vnd.jupyter.widget-view+json": {
       "model_id": "0d7a50dc23774abeba6472d10f53dcc8",
       "version_major": 2,
       "version_minor": 0
      },
      "text/plain": [
       "Output()"
      ]
     },
     "metadata": {},
     "output_type": "display_data"
    }
   ],
   "source": [
    "df.intent = ['MedianEarnings']\n",
    "df"
   ]
  },
  {
   "cell_type": "code",
   "execution_count": 11,
   "id": "0e3d74f5",
   "metadata": {},
   "outputs": [
    {
     "data": {
      "application/vnd.jupyter.widget-view+json": {
       "model_id": "521cce55398b474baba73f2136187bc1",
       "version_major": 2,
       "version_minor": 0
      },
      "text/plain": [
       "Button(description='Toggle Pandas/Lux', layout=Layout(top='5px', width='140px'), style=ButtonStyle())"
      ]
     },
     "metadata": {},
     "output_type": "display_data"
    },
    {
     "data": {
      "application/vnd.jupyter.widget-view+json": {
       "model_id": "b514951e8f094db5aa141d03912b5701",
       "version_major": 2,
       "version_minor": 0
      },
      "text/plain": [
       "Output()"
      ]
     },
     "metadata": {},
     "output_type": "display_data"
    }
   ],
   "source": [
    "# Median Debt by regions\n",
    "df.intent = ['MedianDebt','Region=New England|Southeast|Far West']\n",
    "df"
   ]
  },
  {
   "cell_type": "code",
   "execution_count": 12,
   "id": "21cc607f",
   "metadata": {},
   "outputs": [
    {
     "data": {
      "application/vnd.jupyter.widget-view+json": {
       "model_id": "8c28ea42f08f4a44a30e78cff24165ff",
       "version_major": 2,
       "version_minor": 0
      },
      "text/plain": [
       "LuxWidget(recommendations=[{'action': 'Vis List', 'description': 'Shows a vis list defined by the intent', 'vs…"
      ]
     },
     "metadata": {},
     "output_type": "display_data"
    }
   ],
   "source": [
    "median_debet = df.current_vis\n",
    "median_debet"
   ]
  },
  {
   "cell_type": "code",
   "execution_count": 13,
   "id": "3be6392c",
   "metadata": {
    "scrolled": false
   },
   "outputs": [
    {
     "data": {
      "application/vnd.jupyter.widget-view+json": {
       "model_id": "4788ab1b433f4ee9b4b5eb522bc558db",
       "version_major": 2,
       "version_minor": 0
      },
      "text/plain": [
       "Button(description='Toggle Pandas/Lux', layout=Layout(top='5px', width='140px'), style=ButtonStyle())"
      ]
     },
     "metadata": {},
     "output_type": "display_data"
    },
    {
     "data": {
      "application/vnd.jupyter.widget-view+json": {
       "model_id": "9600e69b334b4cdebbc9bcd71dc0773d",
       "version_major": 2,
       "version_minor": 0
      },
      "text/plain": [
       "Output()"
      ]
     },
     "metadata": {},
     "output_type": "display_data"
    }
   ],
   "source": [
    "# Average Cost Vs SATAverage\n",
    "df.intent = ['AverageCost','SATAverage']\n",
    "df"
   ]
  },
  {
   "cell_type": "code",
   "execution_count": 14,
   "id": "33482893",
   "metadata": {},
   "outputs": [
    {
     "data": {
      "application/vnd.jupyter.widget-view+json": {
       "model_id": "2524f0cb1a9945eeb8933d5ddfd674d7",
       "version_major": 2,
       "version_minor": 0
      },
      "text/plain": [
       "LuxWidget(recommendations=[{'action': 'Vis List', 'description': 'Shows a vis list defined by the intent', 'vs…"
      ]
     },
     "metadata": {},
     "output_type": "display_data"
    }
   ],
   "source": [
    "# Suggests visualisations or actions that can enhance the current exploration or understanding of the data.\n",
    "enhance = df.recommendation[\"Enhance\"]\n",
    "enhance"
   ]
  },
  {
   "cell_type": "code",
   "execution_count": 15,
   "id": "31beb9cb",
   "metadata": {},
   "outputs": [
    {
     "data": {
      "application/vnd.jupyter.widget-view+json": {
       "model_id": "546ac016674745669948f86863066653",
       "version_major": 2,
       "version_minor": 0
      },
      "text/plain": [
       "LuxWidget(recommendations=[{'action': 'Vis List', 'description': 'Shows a vis list defined by the intent', 'vs…"
      ]
     },
     "metadata": {},
     "output_type": "display_data"
    }
   ],
   "source": [
    "# Filter\n",
    "filter = df.recommendation[\"Filter\"]\n",
    "filter"
   ]
  },
  {
   "cell_type": "code",
   "execution_count": 16,
   "id": "3b6dbe5f",
   "metadata": {},
   "outputs": [
    {
     "data": {
      "application/vnd.jupyter.widget-view+json": {
       "model_id": "c0ff818d214a43d980d99760a246029a",
       "version_major": 2,
       "version_minor": 0
      },
      "text/plain": [
       "LuxWidget(recommendations=[{'action': 'Vis List', 'description': 'Shows a vis list defined by the intent', 'vs…"
      ]
     },
     "metadata": {},
     "output_type": "display_data"
    }
   ],
   "source": [
    "# Generalize\n",
    "generalize = df.recommendation[\"Generalize\"]\n",
    "generalize"
   ]
  },
  {
   "cell_type": "code",
   "execution_count": 17,
   "id": "f9f0e1de",
   "metadata": {
    "scrolled": false
   },
   "outputs": [
    {
     "data": {
      "application/vnd.jupyter.widget-view+json": {
       "model_id": "61a44cca24e84708bf78fa52f652077e",
       "version_major": 2,
       "version_minor": 0
      },
      "text/plain": [
       "Button(description='Toggle Pandas/Lux', layout=Layout(top='5px', width='140px'), style=ButtonStyle())"
      ]
     },
     "metadata": {},
     "output_type": "display_data"
    },
    {
     "data": {
      "application/vnd.jupyter.widget-view+json": {
       "model_id": "f7a91c11f6174091af7f9530b5da8bb8",
       "version_major": 2,
       "version_minor": 0
      },
      "text/plain": [
       "Output()"
      ]
     },
     "metadata": {},
     "output_type": "display_data"
    }
   ],
   "source": [
    "# Specifying a Region\n",
    "region_newengland = df[df[\"Region\"]==\"New England\"]\n",
    "region_newengland"
   ]
  },
  {
   "cell_type": "markdown",
   "id": "3dabf72f",
   "metadata": {},
   "source": [
    "### Quick, on-demand visualizations with the help of automatic encoding\n",
    "\n",
    "Users can also create their own Vis via the same syntax as specifying the intent"
   ]
  },
  {
   "cell_type": "code",
   "execution_count": 18,
   "id": "476924c8",
   "metadata": {},
   "outputs": [
    {
     "data": {
      "application/vnd.jupyter.widget-view+json": {
       "model_id": "04b7274b15bf43b998dd50fa7437bb4d",
       "version_major": 2,
       "version_minor": 0
      },
      "text/plain": [
       "LuxWidget(current_vis={'config': {'view': {'continuousWidth': 300, 'continuousHeight': 300}, 'axis': {'labelCo…"
      ]
     },
     "metadata": {},
     "output_type": "display_data"
    }
   ],
   "source": [
    "Vis([\"Region=New England\",\"MedianEarnings\"],df)"
   ]
  },
  {
   "cell_type": "markdown",
   "id": "6562eefa",
   "metadata": {},
   "source": [
    "### Powerful language for working with collections of visualizations:\n",
    "\n",
    "Lux provides a powerful abstraction for working with collections of visualizations based on a partially specified queries. Users can provide a list or a wildcard to iterate over combinations of filter or attribute values and quickly.\n",
    "\n",
    "In Lux, the ? symbol is often used as a wildcard to represent all values in a categorical variable. In this case, \"Region=?\" in your VisList is specifying that you want visualizations for all regions, not a specific one."
   ]
  },
  {
   "cell_type": "code",
   "execution_count": 19,
   "id": "5ba3453a",
   "metadata": {},
   "outputs": [
    {
     "data": {
      "application/vnd.jupyter.widget-view+json": {
       "model_id": "e1fc6a73dd0147bc8b7578e538ecf582",
       "version_major": 2,
       "version_minor": 0
      },
      "text/plain": [
       "LuxWidget(recommendations=[{'action': 'Vis List', 'description': 'Shows a vis list defined by the intent', 'vs…"
      ]
     },
     "metadata": {},
     "output_type": "display_data"
    }
   ],
   "source": [
    "# How the AverageCost distribution differs across different Region.\n",
    "VisList([\"Region=?\",\"AverageCost\"],df)"
   ]
  },
  {
   "cell_type": "markdown",
   "id": "496c2bc6",
   "metadata": {},
   "source": [
    "Specifying attributes or values of interest\n",
    "To see an example of how lux.Clause is used, we rewrite our earlier example of expressing interest in AverageCost as:"
   ]
  },
  {
   "cell_type": "code",
   "execution_count": 20,
   "id": "da0a9955",
   "metadata": {},
   "outputs": [
    {
     "data": {
      "application/vnd.jupyter.widget-view+json": {
       "model_id": "587488c8b0134ce18854aa648360323c",
       "version_major": 2,
       "version_minor": 0
      },
      "text/plain": [
       "Button(description='Toggle Pandas/Lux', layout=Layout(top='5px', width='140px'), style=ButtonStyle())"
      ]
     },
     "metadata": {},
     "output_type": "display_data"
    },
    {
     "data": {
      "application/vnd.jupyter.widget-view+json": {
       "model_id": "4eacc6a849d2476aaf9f9da843e7faff",
       "version_major": 2,
       "version_minor": 0
      },
      "text/plain": [
       "Output()"
      ]
     },
     "metadata": {},
     "output_type": "display_data"
    }
   ],
   "source": [
    "df.intent = [lux.Clause(attribute='AverageCost')]\n",
    "df"
   ]
  },
  {
   "cell_type": "markdown",
   "id": "fe5ec0f5",
   "metadata": {},
   "source": [
    "### Specifying wildcards\n",
    "Let's say that you are interested in any attribute with respect to AverageCost. Lux support wildcards (based on CompassQL ), which specifies the enumeration of any possible attribute or values that satisfies the provided constraints."
   ]
  },
  {
   "cell_type": "code",
   "execution_count": 21,
   "id": "4b4b44d4",
   "metadata": {},
   "outputs": [
    {
     "data": {
      "application/vnd.jupyter.widget-view+json": {
       "model_id": "e6f3d115dbaf4bf0a5c5597844c585d4",
       "version_major": 2,
       "version_minor": 0
      },
      "text/plain": [
       "Button(description='Toggle Pandas/Lux', layout=Layout(top='5px', width='140px'), style=ButtonStyle())"
      ]
     },
     "metadata": {},
     "output_type": "display_data"
    },
    {
     "data": {
      "application/vnd.jupyter.widget-view+json": {
       "model_id": "db648e1f613245788a4d6096b0c4daf7",
       "version_major": 2,
       "version_minor": 0
      },
      "text/plain": [
       "Output()"
      ]
     },
     "metadata": {},
     "output_type": "display_data"
    }
   ],
   "source": [
    "df.intent = ['AverageCost',lux.Clause('?')]\n",
    "df"
   ]
  },
  {
   "cell_type": "code",
   "execution_count": 22,
   "id": "a3100721",
   "metadata": {},
   "outputs": [
    {
     "data": {
      "application/vnd.jupyter.widget-view+json": {
       "model_id": "5fae7fdcc86a42b288bb191cc80ae4e9",
       "version_major": 2,
       "version_minor": 0
      },
      "text/plain": [
       "Button(description='Toggle Pandas/Lux', layout=Layout(top='5px', width='140px'), style=ButtonStyle())"
      ]
     },
     "metadata": {},
     "output_type": "display_data"
    },
    {
     "data": {
      "application/vnd.jupyter.widget-view+json": {
       "model_id": "998479e782f24dad9b41abe5ef6b264f",
       "version_major": 2,
       "version_minor": 0
      },
      "text/plain": [
       "Output()"
      ]
     },
     "metadata": {},
     "output_type": "display_data"
    }
   ],
   "source": [
    "df.intent = ['AverageCost',lux.Clause('?',data_type='quantitative')]\n",
    "df"
   ]
  },
  {
   "cell_type": "code",
   "execution_count": null,
   "id": "5446b636",
   "metadata": {},
   "outputs": [],
   "source": []
  },
  {
   "cell_type": "code",
   "execution_count": null,
   "id": "740733f0",
   "metadata": {},
   "outputs": [],
   "source": []
  }
 ],
 "metadata": {
  "kernelspec": {
   "display_name": "Python 3 (ipykernel)",
   "language": "python",
   "name": "python3"
  },
  "language_info": {
   "codemirror_mode": {
    "name": "ipython",
    "version": 3
   },
   "file_extension": ".py",
   "mimetype": "text/x-python",
   "name": "python",
   "nbconvert_exporter": "python",
   "pygments_lexer": "ipython3",
   "version": "3.9.13"
  }
 },
 "nbformat": 4,
 "nbformat_minor": 5
}
